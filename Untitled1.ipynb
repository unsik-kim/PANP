{
 "cells": [
  {
   "cell_type": "code",
   "execution_count": 8,
   "metadata": {},
   "outputs": [],
   "source": [
    "class Person:\n",
    "    personType = hu\n",
    "    def __init__(self, name):\n",
    "        self.name = name\n",
    "        self.age = 10\n",
    "    def greeting(self):\n",
    "        print('안녕하세요.')\n",
    "\n",
    "class PersonList:\n",
    "    def __init__(self, data):\n",
    "        self.person_list = data    # 리스트 속성에 Person 인스턴스를 넣어서 관리\n",
    "        sel\n",
    " \n",
    "    def append_person(self, person):    # 리스트 속성에 Person 인스턴스를 추가하는 함수\n",
    "        self.person_list.append(person)"
   ]
  },
  {
   "cell_type": "code",
   "execution_count": 9,
   "metadata": {},
   "outputs": [
    {
     "data": {
      "text/plain": [
       "[]"
      ]
     },
     "execution_count": 9,
     "metadata": {},
     "output_type": "execute_result"
    }
   ],
   "source": [
    "psl = PersonList([])\n",
    "psl.person_list"
   ]
  },
  {
   "cell_type": "code",
   "execution_count": 10,
   "metadata": {},
   "outputs": [],
   "source": [
    "psl.append_person(Person('unsik'))\n",
    "psl.append_person(Person('haesik'))"
   ]
  },
  {
   "cell_type": "code",
   "execution_count": 128,
   "metadata": {},
   "outputs": [
    {
     "data": {
      "text/plain": [
       "'unsik'"
      ]
     },
     "execution_count": 128,
     "metadata": {},
     "output_type": "execute_result"
    }
   ],
   "source": [
    "psl.person_list[0].name"
   ]
  },
  {
   "cell_type": "code",
   "execution_count": 12,
   "metadata": {},
   "outputs": [
    {
     "data": {
      "text/plain": [
       "10"
      ]
     },
     "execution_count": 12,
     "metadata": {},
     "output_type": "execute_result"
    }
   ],
   "source": [
    "psl.person_list[0].age"
   ]
  },
  {
   "cell_type": "code",
   "execution_count": 13,
   "metadata": {},
   "outputs": [
    {
     "data": {
      "text/plain": [
       "'haesik'"
      ]
     },
     "execution_count": 13,
     "metadata": {},
     "output_type": "execute_result"
    }
   ],
   "source": [
    "psl.person_list[1].name"
   ]
  },
  {
   "cell_type": "code",
   "execution_count": 14,
   "metadata": {},
   "outputs": [
    {
     "data": {
      "text/plain": [
       "[<__main__.Person at 0x7f33983858d0>, <__main__.Person at 0x7f3398385898>]"
      ]
     },
     "execution_count": 14,
     "metadata": {},
     "output_type": "execute_result"
    }
   ],
   "source": [
    "psl.person_list"
   ]
  },
  {
   "cell_type": "code",
   "execution_count": 17,
   "metadata": {},
   "outputs": [
    {
     "data": {
      "text/plain": [
       "'human'"
      ]
     },
     "execution_count": 17,
     "metadata": {},
     "output_type": "execute_result"
    }
   ],
   "source": [
    "psl.person_list[0].personType"
   ]
  },
  {
   "cell_type": "code",
   "execution_count": 130,
   "metadata": {},
   "outputs": [],
   "source": [
    "class DataAsset:\n",
    "    def __init__(self):\n",
    "        self.data = []\n",
    "        self.name = \"name\"\n",
    "        self.num = 0\n",
    "    def insert(self, data):\n",
    "        self.data.append(data)\n",
    "        self.data.append(data)\n",
    "        self.data.append(data)\n",
    "        self.data.append(data)\n",
    "        self.num = len(self.data)\n",
    "        print(self.data, self.num)\n",
    "        \n",
    "    @classmethod\n",
    "    def delete(cls, data):\n",
    "        cls.data.remove(data)\n",
    "        cls.num = len(self.data)\n",
    "\n",
    "    @classmethod\n",
    "    def update(cls, target, data):\n",
    "        targetIndex = cls.data.index(target)\n",
    "        cls.data.remove(target)\n",
    "        cls.data.insert(data, targetIndex)\n",
    "        cls.num = len(self.data)\n",
    "        \n",
    "class DataAssetProfile:\n",
    "    def __init__(self, id=0, startTime=0, endTime=0):\n",
    "        self.id = id\n",
    "        self.startTime = startTime\n",
    "        self.endTime = endTime\n",
    "        \n",
    "class testClass:\n",
    "    def __init__(self):\n",
    "        self.data = DataAsset()"
   ]
  },
  {
   "cell_type": "code",
   "execution_count": 134,
   "metadata": {},
   "outputs": [
    {
     "name": "stdout",
     "output_type": "stream",
     "text": [
      "[]\n",
      "1\n"
     ]
    }
   ],
   "source": [
    "da = DataAsset()\n",
    "print(da.data)\n",
    "\n",
    "dap = DataAssetProfile(1,0,0)\n",
    "print(dap.id)"
   ]
  },
  {
   "cell_type": "code",
   "execution_count": 135,
   "metadata": {},
   "outputs": [
    {
     "name": "stdout",
     "output_type": "stream",
     "text": [
      "[<__main__.DataAssetProfile object at 0x7f338277e710>, <__main__.DataAssetProfile object at 0x7f338277e710>, <__main__.DataAssetProfile object at 0x7f338277e710>, <__main__.DataAssetProfile object at 0x7f338277e710>] 4\n"
     ]
    }
   ],
   "source": [
    "da.insert(DataAssetProfile(1,0,0))"
   ]
  },
  {
   "cell_type": "code",
   "execution_count": 136,
   "metadata": {},
   "outputs": [
    {
     "data": {
      "text/plain": [
       "[<__main__.DataAssetProfile at 0x7f338277e710>,\n",
       " <__main__.DataAssetProfile at 0x7f338277e710>,\n",
       " <__main__.DataAssetProfile at 0x7f338277e710>,\n",
       " <__main__.DataAssetProfile at 0x7f338277e710>]"
      ]
     },
     "execution_count": 136,
     "metadata": {},
     "output_type": "execute_result"
    }
   ],
   "source": [
    "da.data"
   ]
  },
  {
   "cell_type": "code",
   "execution_count": 138,
   "metadata": {},
   "outputs": [],
   "source": [
    "tc = testClass()"
   ]
  },
  {
   "cell_type": "code",
   "execution_count": 139,
   "metadata": {},
   "outputs": [
    {
     "data": {
      "text/plain": [
       "<__main__.DataAsset at 0x7f338277e7b8>"
      ]
     },
     "execution_count": 139,
     "metadata": {},
     "output_type": "execute_result"
    }
   ],
   "source": [
    "tc.data"
   ]
  },
  {
   "cell_type": "code",
   "execution_count": 114,
   "metadata": {},
   "outputs": [],
   "source": [
    "student_list = [\n",
    "  {'name': 'Homer', 'age': 39},\n",
    "  {'name': 'Homer1', 'age': 20},\n",
    "  {'name': 'Homer2', 'age': 5},\n",
    "  {'name': 'Bart', 'age': 10}\n",
    "]"
   ]
  },
  {
   "cell_type": "code",
   "execution_count": 120,
   "metadata": {},
   "outputs": [],
   "source": [
    "def sort_list_by_age_using_lambda(student_list):\n",
    "    return sorted(student_list, key=lambda k: k['name'])\n",
    "\n",
    "def sort_list_by_two_keys_using_lambda(student_list):\n",
    "    return sorted(student_list, key=lambda k: (k['age'], k['name']))"
   ]
  },
  {
   "cell_type": "code",
   "execution_count": 119,
   "metadata": {},
   "outputs": [
    {
     "data": {
      "text/plain": [
       "[{'name': 'Bart', 'age': 10},\n",
       " {'name': 'Homer', 'age': 39},\n",
       " {'name': 'Homer1', 'age': 20},\n",
       " {'name': 'Homer2', 'age': 5}]"
      ]
     },
     "execution_count": 119,
     "metadata": {},
     "output_type": "execute_result"
    }
   ],
   "source": [
    "sort_list_by_age_using_lambda(student_list)"
   ]
  },
  {
   "cell_type": "code",
   "execution_count": 123,
   "metadata": {},
   "outputs": [
    {
     "data": {
      "text/plain": [
       "[{'name': 'Homer2', 'age': 5},\n",
       " {'name': 'Homer3', 'age': 5},\n",
       " {'name': 'Bart', 'age': 10},\n",
       " {'name': 'Homer', 'age': 39}]"
      ]
     },
     "execution_count": 123,
     "metadata": {},
     "output_type": "execute_result"
    }
   ],
   "source": [
    "student_list = [\n",
    "    {'name': 'Homer', 'age': 39},\n",
    "    {'name': 'Homer2', 'age': 5},\n",
    "    {'name': 'Homer3', 'age': 5},\n",
    "    {'name': 'Bart', 'age': 10},\n",
    "  ]\n",
    "sort_list_by_two_keys_using_lambda(student_list)"
   ]
  }
 ],
 "metadata": {
  "kernelspec": {
   "display_name": "Python 3",
   "language": "python",
   "name": "python3"
  },
  "language_info": {
   "codemirror_mode": {
    "name": "ipython",
    "version": 3
   },
   "file_extension": ".py",
   "mimetype": "text/x-python",
   "name": "python",
   "nbconvert_exporter": "python",
   "pygments_lexer": "ipython3",
   "version": "3.6.9"
  }
 },
 "nbformat": 4,
 "nbformat_minor": 4
}
