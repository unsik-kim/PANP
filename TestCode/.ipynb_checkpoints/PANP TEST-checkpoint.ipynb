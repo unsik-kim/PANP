{
 "cells": [
  {
   "cell_type": "code",
   "execution_count": 156,
   "metadata": {},
   "outputs": [],
   "source": [
    "import plotly.graph_objects as go\n",
    "import pandas as pd\n",
    "import numpy as np\n",
    "pd.options.mode.chained_assignment = None  # default='warn'\n",
    "pd.set_option('display.max_row', 1200)\n",
    "pd.set_option('display.max_columns', 100)\n",
    "\n",
    "# 1950~2067년\n",
    "dfDeathWoman = pd.read_excel('../data/여성사망률추이.xlsx').set_index(['year']).iloc[:98,:100]\n",
    "dfDeathMan = pd.read_excel('../data/남성사망률추이.xlsx').set_index(['year']).iloc[:98,:100]\n",
    "npDeathWoman = np.array(dfDeathWoman)\n",
    "npDeathMan = np.array(dfDeathMan)\n",
    "# 1950~2047년\n",
    "dfDoctorData = pd.read_excel('../data/doctorData.xlsx').set_index(['년도']).iloc[:98,:]\n",
    "npRealDoctor = np.around(np.array(dfDoctorData[['의사수/계','의사수/남','의사수/여']])).T\n",
    "npRealWorkDoctor = np.around(np.array(dfDoctorData['건강보험\\n신고의사'])).T\n",
    "npPassDoctor = np.around(np.array(dfDoctorData[['의대졸합격/남', '의대졸합격/여', '의전졸합격/남', '의전졸합격/여', '불합합격/남', '불합합격/여']]))\n",
    "npDoctorExam = np.around(np.array(dfDoctorData[['의사고시합격자수','의사고시최종불합격자수']]))\n",
    "npPopulation = np.array(dfDoctorData['추계인구'])\n",
    "npPassDoctorRate = np.array(dfDoctorData[['의대졸비율/남', '의대졸비율/여', '의전졸비율/남', '의전졸비율/여', '불합비율/남', '불합비율/여']])\n",
    "\n",
    "# 2011~2016년\n",
    "dfDoctorAgeData = pd.read_excel('../data/의사연령별분포.xlsx')\n",
    "npDoctorAgeData = np.array(dfDoctorAgeData)[:,2:]\n",
    "\n",
    "dfFirstDoctor = pd.read_excel('../data/firstDoctor.xlsx')\n",
    "npFirstDoctor = np.array(dfFirstDoctor)[:,1:-1]\n",
    "\n",
    "# 1950~2020년 연령분포\n",
    "dfKoreaAgePopRateData = pd.read_excel('../data/koreaAgePopRateData.xlsx')\n",
    "npKoreaAgePopRateDataMan = np.array(dfKoreaAgePopRateData[dfKoreaAgePopRateData['sex']=='MALE'])[:,2:]\n",
    "npKoreaAgePopRateDataWoman = np.array(dfKoreaAgePopRateData[dfKoreaAgePopRateData['sex']=='FEMALE'])[:,2:]\n",
    "\n",
    "# 내원일수\n",
    "dfVisitDaysOri = pd.read_excel('../data/내원일수종합.xlsx')\n",
    "dfVisitDays = dfVisitDaysOri[['OECD평균내원일수','oecd1000명당의사수','OECD1인당연간외래진료수','국내내원일수']]"
   ]
  },
  {
   "cell_type": "code",
   "execution_count": 140,
   "metadata": {},
   "outputs": [
    {
     "data": {
      "text/plain": [
       "Index([ 0,  1,  2,  3,  4,  5,  6,  7,  8,  9, 10, 11, 12, 13, 14, 15, 16, 17,\n",
       "       18, 19, 20, 21, 22, 23, 24, 25, 26, 27, 28, 29, 30, 31, 32, 33, 34, 35,\n",
       "       36, 37, 38, 39, 40, 41, 42, 43, 44, 45, 46, 47, 48, 49, 50, 51, 52, 53,\n",
       "       54, 55, 56, 57, 58, 59, 60, 61, 62, 63, 64, 65, 66, 67, 68, 69, 70, 71,\n",
       "       72, 73, 74, 75, 76, 77, 78, 79, 80, 81, 82, 83, 84, 85, 86, 87, 88, 89,\n",
       "       90, 91, 92, 93, 94, 95, 96, 97, 98, 99],\n",
       "      dtype='object')"
      ]
     },
     "execution_count": 140,
     "metadata": {},
     "output_type": "execute_result"
    }
   ],
   "source": [
    "dfDeathWoman.columns"
   ]
  },
  {
   "cell_type": "code",
   "execution_count": 104,
   "metadata": {
    "scrolled": true
   },
   "outputs": [
    {
     "name": "stdout",
     "output_type": "stream",
     "text": [
      "Collection(Database(MongoClient(host=['222.239.90.78:47017'], document_class=dict, tz_aware=False, connect=True, authsource='PANP', authmechanism='SCRAM-SHA-256'), 'PANP'), 'Project')\n"
     ]
    }
   ],
   "source": [
    "import pymongo\n",
    "from pymongo import MongoClient\n",
    "\n",
    "def connectDB(collection):\n",
    "    client = MongoClient('222.239.90.78:47017',\n",
    "                         username='panpAdmin',\n",
    "                         password='asd123!',\n",
    "                         authSource='PANP',\n",
    "                         authMechanism='SCRAM-SHA-256')\n",
    "    return client['PANP'][collection]\n",
    "\n",
    "print(connectDB('Project'))"
   ]
  },
  {
   "cell_type": "code",
   "execution_count": 145,
   "metadata": {},
   "outputs": [],
   "source": [
    "dataTable = {\n",
    "    'name' : '',\n",
    "    'id' : 0,\n",
    "    'creator' : 'unsik',\n",
    "    'auth' : 'unsik',\n",
    "    'data' : [{'row':0, 'column':0, 'value':0}]   \n",
    "}"
   ]
  },
  {
   "cell_type": "code",
   "execution_count": 162,
   "metadata": {},
   "outputs": [],
   "source": [
    "prjAttribute = {\n",
    "            'name' : 'unsik',\n",
    "            'id' : '132',\n",
    "            'creator' : 'unsik',\n",
    "            'auth' : 'unsik',\n",
    "            'popAttribute' :{\n",
    "                'list' : {'성별':['남','여'], '연령':list(range(0,100))},\n",
    "                'num' : 2,\n",
    "                'cases' : 2\n",
    "            },\n",
    "            'startYear' : 1955,\n",
    "            'baseYear' : 2018,\n",
    "            'firstPop' : {'id':24, 'num':2},\n",
    "            'inputPop' : {'data':[{'id':10, 'startYear':1953, 'endYear':2018}], 'num':1},\n",
    "            'trainSet' : {'data':[{'id':11, 'startYear':2000, 'endYear':2018}], 'num':1},\n",
    "            'testSet' : {'data':[{'id':12, 'startYear':1953, 'endYear':2018}], 'num':1},\n",
    "            'outputPopModel' : {'data':[{'id':3,'sequence':0},{'id':10,'sequence':1},{'id':42,'sequence':2}], 'num':3},\n",
    "            'changePopAtModel' : {'data':[{'id':2,'sequence':0},{'id':23,'sequence':1},{'id':64,'sequence':2}], 'num':3},\n",
    "            'classifyPopModel' : {'data':[{'id':4,'sequence':0},{'id':52,'sequence':1},{'id':76,'sequence':2}], 'num':3},\n",
    "            'baseParameterSet' : {'data':[{'id':3, 'value':[]}], 'num':1}\n",
    "        }"
   ]
  },
  {
   "cell_type": "code",
   "execution_count": 163,
   "metadata": {},
   "outputs": [],
   "source": [
    "class manageDataTable:\n",
    "    def create(dfData, dataName, dataId, creator, dataType):\n",
    "        col = connectDB('DataTable')\n",
    "        dataTable = {\n",
    "            'name' : dataName,\n",
    "            'id' : dataId,\n",
    "            'creator' : creator,\n",
    "            'auth' : creator,\n",
    "            'type' : dataType,\n",
    "            'data' : []\n",
    "        }\n",
    "        for i in dfData.columns:\n",
    "            for j in dfData.index:\n",
    "                dataTable['data'].append({'index':i, 'column':j, 'value':dfData[i][j]})\n",
    "        state = col.update(dataTable, dataTable, True)\n",
    "        return state\n",
    "    \n",
    "    def read(dataId):\n",
    "        col = connectDB('DataTable')\n",
    "        data = col.find({'id':dataId},{'_id':0})[0]\n",
    "        return data\n",
    "    \n",
    "    def update(dataId, dfData, dataType):\n",
    "        col = connectDB('DataTable')\n",
    "        dataTable = {\n",
    "            'name' : '',\n",
    "            'id' : 0,\n",
    "            'creator' : 'unsik',\n",
    "            'auth' : 'unsik',\n",
    "            'type' : dataType,\n",
    "            'data' : [{'row':0, 'column':0, 'value':0}]   \n",
    "        }\n",
    "        state = col.update({'id':dataId}, dataTable, True)\n",
    "        return state\n",
    "    \n",
    "    def delete(dataId):\n",
    "        col = connectDB('DataTable')\n",
    "        state = col.remove({'id':dataId})\n",
    "        return state"
   ]
  },
  {
   "cell_type": "code",
   "execution_count": 150,
   "metadata": {},
   "outputs": [
    {
     "name": "stderr",
     "output_type": "stream",
     "text": [
      "/usr/local/lib/python3.6/dist-packages/ipykernel_launcher.py:14: DeprecationWarning:\n",
      "\n",
      "update is deprecated. Use replace_one, update_one or update_many instead.\n",
      "\n"
     ]
    },
    {
     "data": {
      "text/plain": [
       "{'n': 1,\n",
       " 'nModified': 0,\n",
       " 'upserted': ObjectId('5fd9df0098944aeac623b276'),\n",
       " 'ok': 1.0,\n",
       " 'updatedExisting': False}"
      ]
     },
     "execution_count": 150,
     "metadata": {},
     "output_type": "execute_result"
    }
   ],
   "source": [
    "manageDataTable.create(dfDeathWoman, '여성사망율', 10, 'unsik')"
   ]
  },
  {
   "cell_type": "code",
   "execution_count": 154,
   "metadata": {},
   "outputs": [
    {
     "name": "stderr",
     "output_type": "stream",
     "text": [
      "/usr/local/lib/python3.6/dist-packages/ipykernel_launcher.py:36: DeprecationWarning:\n",
      "\n",
      "remove is deprecated. Use delete_one or delete_many instead.\n",
      "\n"
     ]
    },
    {
     "data": {
      "text/plain": [
       "{'n': 1, 'ok': 1.0}"
      ]
     },
     "execution_count": 154,
     "metadata": {},
     "output_type": "execute_result"
    }
   ],
   "source": [
    "manageDataTable.delete(10)"
   ]
  },
  {
   "cell_type": "code",
   "execution_count": 147,
   "metadata": {},
   "outputs": [],
   "source": [
    "class prjAttribute:\n",
    "    def __init__(self, prjId, creator):\n",
    "        self.name = 'none'\n",
    "        self.id = prjId\n",
    "        self.creator = creator\n",
    "        self.auth = self.creator\n",
    "        self.popAttribute = {\n",
    "            'list' : {'성별':['남','여'], '연령':list(range(0,100))},\n",
    "            'num' : 2,\n",
    "            'cases' : 2\n",
    "        }\n",
    "        self.startYear = 0\n",
    "        self.baseYear = 0\n",
    "        self.firstPop = {}\n",
    "        self.inputPop = {'data':[], 'num':0}\n",
    "        self.trainSet = {'data':[], 'num':0}\n",
    "        self.testSet = {'data':[], 'num':0}\n",
    "        self.outputPopModel = []\n",
    "        self.changePopAtModel = []\n",
    "        self.classifyPopModel = []\n",
    "        self.baseParameterSet = []"
   ]
  },
  {
   "cell_type": "code",
   "execution_count": 120,
   "metadata": {},
   "outputs": [],
   "source": [
    "class managePrj:\n",
    "    def create(prjData):\n",
    "        col = connectDB('Project')\n",
    "        prjAttribute = {\n",
    "            'name' : prjData.name,\n",
    "            'id' : prjData.id,\n",
    "            'creator' : prjData.creator,\n",
    "            'auth' : prjData.auth,\n",
    "            'popAttribute' :prjData.popAttribute,\n",
    "            'startYear' : prjData.startYear,\n",
    "            'baseYear' : prjData.baseYear,\n",
    "            'firstPop' : prjData.firstPop,\n",
    "            'inputPop' : prjData.inputPop,\n",
    "            'trainSet' : prjData.trainSet,\n",
    "            'testSet' : prjData.testSet,\n",
    "            'outputPopModel' : prjData.outputPopModel,\n",
    "            'changePopAtModel' : prjData.changePopAtModel,\n",
    "            'classifyPopModel' : prjData.classifyPopModel,\n",
    "            'baseParameterSet' : prjData.baseParameterSet\n",
    "        }\n",
    "        \n",
    "        state = col.update(prjAttribute, prjAttribute, True)\n",
    "        \n",
    "        return state\n",
    "    \n",
    "    def read(prjId):\n",
    "        col = connectDB('Project')\n",
    "        data = col.find({'id':prjId},{'_id':0})[0]\n",
    "        return data\n",
    "    \n",
    "    def update(prjData):\n",
    "        col = connectDB('Project')\n",
    "        prjAttribute = {\n",
    "            'name' : prjData.name,\n",
    "            'id' : prjData.id,\n",
    "            'creator' : prjData.creator,\n",
    "            'auth' : prjData.auth,\n",
    "            'popAttribute' :prjData.popAttribute,\n",
    "            'startYear' : prjData.startYear,\n",
    "            'baseYear' : prjData.baseYear,\n",
    "            'firstPop' : prjData.firstPop,\n",
    "            'inputPop' : prjData.inputPop,\n",
    "            'trainSet' : prjData.trainSet,\n",
    "            'testSet' : prjData.testSet,\n",
    "            'outputPopModel' : prjData.outputPopModel,\n",
    "            'changePopAtModel' : prjData.changePopAtModel,\n",
    "            'classifyPopModel' : prjData.classifyPopModel,\n",
    "            'baseParameterSet' : prjData.baseParameterSet\n",
    "        }\n",
    "        \n",
    "        state = col.update({'id':prjData.id}, prjAttribute, True)\n",
    "        return state\n",
    "    \n",
    "    def delete(prjId):\n",
    "        col = connectDB('Project')\n",
    "        state = col.remove({'id':prjId})\n",
    "        return state"
   ]
  },
  {
   "cell_type": "code",
   "execution_count": 121,
   "metadata": {},
   "outputs": [
    {
     "name": "stdout",
     "output_type": "stream",
     "text": [
      "{'n': 1, 'nModified': 1, 'ok': 1.0, 'updatedExisting': True}\n"
     ]
    },
    {
     "name": "stderr",
     "output_type": "stream",
     "text": [
      "/usr/local/lib/python3.6/dist-packages/ipykernel_launcher.py:22: DeprecationWarning:\n",
      "\n",
      "update is deprecated. Use replace_one, update_one or update_many instead.\n",
      "\n"
     ]
    }
   ],
   "source": [
    "testPrj = prjAttribute(0,'us')\n",
    "print(managePrj.create(testPrj))"
   ]
  }
 ],
 "metadata": {
  "kernelspec": {
   "display_name": "Python 3",
   "language": "python",
   "name": "python3"
  },
  "language_info": {
   "codemirror_mode": {
    "name": "ipython",
    "version": 3
   },
   "file_extension": ".py",
   "mimetype": "text/x-python",
   "name": "python",
   "nbconvert_exporter": "python",
   "pygments_lexer": "ipython3",
   "version": "3.6.9"
  }
 },
 "nbformat": 4,
 "nbformat_minor": 4
}
